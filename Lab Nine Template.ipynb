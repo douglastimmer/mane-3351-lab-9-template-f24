{
 "cells": [
  {
   "cell_type": "markdown",
   "id": "aa5cedfa",
   "metadata": {},
   "source": [
    "# MANE 3351\n",
    "## Laboratory Nine\n",
    "### Your Name"
   ]
  },
  {
   "cell_type": "markdown",
   "id": "e63cca66",
   "metadata": {},
   "source": [
    "## Description of numerical integration techniques used in cell three."
   ]
  },
  {
   "cell_type": "code",
   "execution_count": 1,
   "id": "e54ff82f",
   "metadata": {},
   "outputs": [],
   "source": [
    "# Cell 3"
   ]
  }
 ],
 "metadata": {
  "kernelspec": {
   "display_name": "Python 3 (ipykernel)",
   "language": "python",
   "name": "python3"
  },
  "language_info": {
   "codemirror_mode": {
    "name": "ipython",
    "version": 3
   },
   "file_extension": ".py",
   "mimetype": "text/x-python",
   "name": "python",
   "nbconvert_exporter": "python",
   "pygments_lexer": "ipython3",
   "version": "3.10.12"
  }
 },
 "nbformat": 4,
 "nbformat_minor": 5
}
